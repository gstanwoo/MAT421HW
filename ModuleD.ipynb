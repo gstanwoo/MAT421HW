{
  "nbformat": 4,
  "nbformat_minor": 0,
  "metadata": {
    "colab": {
      "name": "ModuleD.ipynb",
      "provenance": [],
      "include_colab_link": true
    },
    "kernelspec": {
      "name": "python3",
      "display_name": "Python 3"
    },
    "language_info": {
      "name": "python"
    }
  },
  "cells": [
    {
      "cell_type": "markdown",
      "metadata": {
        "id": "view-in-github",
        "colab_type": "text"
      },
      "source": [
        "<a href=\"https://colab.research.google.com/github/gstanwoo/MAT421HW/blob/main/ModuleD.ipynb\" target=\"_parent\"><img src=\"https://colab.research.google.com/assets/colab-badge.svg\" alt=\"Open In Colab\"/></a>"
      ]
    },
    {
      "cell_type": "markdown",
      "source": [
        "# Section 1.1: Introduction"
      ],
      "metadata": {
        "id": "BwOsMr7FYClp"
      }
    },
    {
      "cell_type": "markdown",
      "source": [
        "Finding the root nearest 4:"
      ],
      "metadata": {
        "id": "MtdAbbyCx7Ht"
      }
    },
    {
      "cell_type": "code",
      "source": [
        "import numpy as np\n",
        "from scipy import optimize\n",
        "\n",
        "f = lambda x: np.cos(x) - x\n",
        "r = optimize.fsolve(f, 4)\n",
        "print(\"r =\", r)\n",
        "\n",
        "# Verify the solution is a root\n",
        "result = f(r)\n",
        "print(\"result=\", result)"
      ],
      "metadata": {
        "colab": {
          "base_uri": "https://localhost:8080/"
        },
        "id": "SPqh0r95yANj",
        "outputId": "c064bf12-aa75-4210-8ed4-d6f06d199f1a"
      },
      "execution_count": null,
      "outputs": [
        {
          "output_type": "stream",
          "name": "stdout",
          "text": [
            "r = [0.73908513]\n",
            "result= [6.66133815e-16]\n"
          ]
        }
      ]
    },
    {
      "cell_type": "markdown",
      "source": [
        "# Section 1.2: Elements of Linear Algebra"
      ],
      "metadata": {
        "id": "2hF9Ph-xYbVr"
      }
    },
    {
      "cell_type": "markdown",
      "source": [
        "Let tol be the accepted level of error. Even equations that have no real root (ie y = 1/x) can have an acceptable solution so long as the result is less than or equal to the tolerance."
      ],
      "metadata": {
        "id": "tfa5Hvd-y20S"
      }
    },
    {
      "cell_type": "markdown",
      "source": [
        "# Section 1.3: Linear Regression"
      ],
      "metadata": {
        "id": "_dv0b5eqYrJr"
      }
    },
    {
      "cell_type": "markdown",
      "source": [
        "Using the bisection method to approximate the root of the function y = x^2 - 5:"
      ],
      "metadata": {
        "id": "tOm2CmiBy08D"
      }
    },
    {
      "cell_type": "code",
      "source": [
        "import numpy as np\n",
        "\n",
        "def my_bisection(f, a, b, tol): \n",
        "    # approximates a root, R, of f bounded \n",
        "    # by a and b to within tolerance \n",
        "    # | f(m) | < tol with m the midpoint \n",
        "    # between a and b Recursive implementation\n",
        "    \n",
        "    # check if a and b bound a root\n",
        "    if np.sign(f(a)) == np.sign(f(b)):\n",
        "        raise Exception(\n",
        "         \"The scalars a and b do not bound a root\")\n",
        "        \n",
        "    # get midpoint\n",
        "    m = (a + b)/2\n",
        "    \n",
        "    if np.abs(f(m)) < tol:\n",
        "        # stopping condition, report m as root\n",
        "        return m\n",
        "    elif np.sign(f(a)) == np.sign(f(m)):\n",
        "        # case where m is an improvement on a. \n",
        "        # Make recursive call with a = m\n",
        "        return my_bisection(f, m, b, tol)\n",
        "    elif np.sign(f(b)) == np.sign(f(m)):\n",
        "        # case where m is an improvement on b. \n",
        "        # Make recursive call with b = m\n",
        "        return my_bisection(f, a, m, tol)\n",
        "\n",
        "f = lambda x: x**2 - 5\n",
        "\n",
        "r1 = my_bisection(f, 0, 6, 0.1)\n",
        "print(\"r1 =\", r1)\n",
        "r01 = my_bisection(f, 0, 6, 0.01)\n",
        "print(\"r01 =\", r01)\n",
        "\n",
        "print(\"f(r1) =\", f(r1))\n",
        "print(\"f(r01) =\", f(r01))"
      ],
      "metadata": {
        "colab": {
          "base_uri": "https://localhost:8080/"
        },
        "id": "CLWyOF1Oy1ND",
        "outputId": "2bfed40e-1c49-4084-dec9-0b40d0b6b17e"
      },
      "execution_count": null,
      "outputs": [
        {
          "output_type": "stream",
          "name": "stdout",
          "text": [
            "r1 = 2.25\n",
            "r01 = 2.23828125\n",
            "f(r1) = 0.0625\n",
            "f(r01) = 0.0099029541015625\n"
          ]
        }
      ]
    }
  ]
}