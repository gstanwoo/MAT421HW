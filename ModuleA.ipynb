{
  "nbformat": 4,
  "nbformat_minor": 0,
  "metadata": {
    "colab": {
      "name": "ModuleA.ipynb",
      "provenance": [],
      "include_colab_link": true
    },
    "kernelspec": {
      "name": "python3",
      "display_name": "Python 3"
    },
    "language_info": {
      "name": "python"
    }
  },
  "cells": [
    {
      "cell_type": "markdown",
      "metadata": {
        "id": "view-in-github",
        "colab_type": "text"
      },
      "source": [
        "<a href=\"https://colab.research.google.com/github/gstanwoo/MAT421HW/blob/main/ModuleA.ipynb\" target=\"_parent\"><img src=\"https://colab.research.google.com/assets/colab-badge.svg\" alt=\"Open In Colab\"/></a>"
      ]
    },
    {
      "cell_type": "code",
      "execution_count": null,
      "metadata": {
        "id": "xiUueUKfWmPu"
      },
      "outputs": [],
      "source": [
        ""
      ]
    },
    {
      "cell_type": "markdown",
      "source": [
        "# Section 9.1: Base-N and Binary"
      ],
      "metadata": {
        "id": "BwOsMr7FYClp"
      }
    },
    {
      "cell_type": "markdown",
      "source": [
        "Converting decimal to binary:"
      ],
      "metadata": {
        "id": "R7-e-dnBchfc"
      }
    },
    {
      "cell_type": "code",
      "source": [
        "input = 142\n",
        "\n",
        "output = bin(input).replace(\"0b\",\"\")\n",
        "\n",
        "output"
      ],
      "metadata": {
        "colab": {
          "base_uri": "https://localhost:8080/",
          "height": 35
        },
        "id": "e0oY_cg3Zrog",
        "outputId": "90ac1125-2392-4afa-a417-06d14f0de52b"
      },
      "execution_count": null,
      "outputs": [
        {
          "output_type": "execute_result",
          "data": {
            "application/vnd.google.colaboratory.intrinsic+json": {
              "type": "string"
            },
            "text/plain": [
              "'10001110'"
            ]
          },
          "metadata": {},
          "execution_count": 3
        }
      ]
    },
    {
      "cell_type": "markdown",
      "source": [
        "Converting binary to decimal:"
      ],
      "metadata": {
        "id": "ww8oyn7dePIH"
      }
    },
    {
      "cell_type": "code",
      "source": [
        "input = \"1100111\"\n",
        "\n",
        "output = int(input,2)\n",
        "\n",
        "output"
      ],
      "metadata": {
        "colab": {
          "base_uri": "https://localhost:8080/"
        },
        "id": "Et5SPHZ8eTfq",
        "outputId": "95110839-00c6-4da7-8b80-1b5e353090f7"
      },
      "execution_count": null,
      "outputs": [
        {
          "output_type": "execute_result",
          "data": {
            "text/plain": [
              "103"
            ]
          },
          "metadata": {},
          "execution_count": 5
        }
      ]
    },
    {
      "cell_type": "markdown",
      "source": [
        "# Section 9.2: Floating Point Numbers"
      ],
      "metadata": {
        "id": "2hF9Ph-xYbVr"
      }
    },
    {
      "cell_type": "markdown",
      "source": [
        "Showing that 2^-1075 overflows, and 2^-1074 works correctly:"
      ],
      "metadata": {
        "id": "J9joaQfzfGy7"
      }
    },
    {
      "cell_type": "code",
      "source": [
        "2**(-1075)"
      ],
      "metadata": {
        "colab": {
          "base_uri": "https://localhost:8080/"
        },
        "id": "VG83a8DpgS1D",
        "outputId": "fa74a213-c701-4c2a-e3d5-c49f39f4e3ac"
      },
      "execution_count": null,
      "outputs": [
        {
          "output_type": "execute_result",
          "data": {
            "text/plain": [
              "0.0"
            ]
          },
          "metadata": {},
          "execution_count": 12
        }
      ]
    },
    {
      "cell_type": "code",
      "source": [
        "2**(-1074)"
      ],
      "metadata": {
        "id": "_xATxJlfl9fK",
        "outputId": "6ea929ef-070a-4458-c761-347cecf3a163",
        "colab": {
          "base_uri": "https://localhost:8080/"
        }
      },
      "execution_count": null,
      "outputs": [
        {
          "output_type": "execute_result",
          "data": {
            "text/plain": [
              "5e-324"
            ]
          },
          "metadata": {},
          "execution_count": 11
        }
      ]
    },
    {
      "cell_type": "markdown",
      "source": [
        "# Section 9.3: Round-off Errors"
      ],
      "metadata": {
        "id": "_dv0b5eqYrJr"
      }
    },
    {
      "cell_type": "markdown",
      "source": [
        "Example of rounding error:"
      ],
      "metadata": {
        "id": "q0SSljsxhmGJ"
      }
    },
    {
      "cell_type": "code",
      "source": [
        "5.2 - 5.125"
      ],
      "metadata": {
        "colab": {
          "base_uri": "https://localhost:8080/"
        },
        "id": "mkhcAd19hfht",
        "outputId": "0872817b-8ee6-499b-ad41-1715b346e1aa"
      },
      "execution_count": null,
      "outputs": [
        {
          "output_type": "execute_result",
          "data": {
            "text/plain": [
              "0.07500000000000018"
            ]
          },
          "metadata": {},
          "execution_count": 7
        }
      ]
    },
    {
      "cell_type": "markdown",
      "source": [
        "Using the round function:"
      ],
      "metadata": {
        "id": "1nPaq1ZViePH"
      }
    },
    {
      "cell_type": "code",
      "source": [
        "round(5.2 - 5.125, 3)"
      ],
      "metadata": {
        "colab": {
          "base_uri": "https://localhost:8080/"
        },
        "id": "OnjyBTjoipQG",
        "outputId": "28301875-7856-4bde-b7ff-cac38516cb9d"
      },
      "execution_count": null,
      "outputs": [
        {
          "output_type": "execute_result",
          "data": {
            "text/plain": [
              "0.075"
            ]
          },
          "metadata": {},
          "execution_count": 8
        }
      ]
    }
  ]
}