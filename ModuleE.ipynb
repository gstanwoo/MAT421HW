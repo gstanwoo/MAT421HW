{
  "nbformat": 4,
  "nbformat_minor": 0,
  "metadata": {
    "colab": {
      "name": "ModuleE.ipynb",
      "provenance": [],
      "include_colab_link": true
    },
    "kernelspec": {
      "name": "python3",
      "display_name": "Python 3"
    },
    "language_info": {
      "name": "python"
    }
  },
  "cells": [
    {
      "cell_type": "markdown",
      "metadata": {
        "id": "view-in-github",
        "colab_type": "text"
      },
      "source": [
        "<a href=\"https://colab.research.google.com/github/gstanwoo/MAT421HW/blob/main/ModuleE.ipynb\" target=\"_parent\"><img src=\"https://colab.research.google.com/assets/colab-badge.svg\" alt=\"Open In Colab\"/></a>"
      ]
    },
    {
      "cell_type": "markdown",
      "source": [
        "# Section 3.2: Continunity and Differentiation"
      ],
      "metadata": {
        "id": "BwOsMr7FYClp"
      }
    },
    {
      "cell_type": "markdown",
      "source": [
        "Finding the root nearest 4:"
      ],
      "metadata": {
        "id": "MtdAbbyCx7Ht"
      }
    },
    {
      "cell_type": "code",
      "source": [
        "import numpy as np\n",
        "from scipy import optimize\n",
        "\n",
        "f = lambda x: np.cos(x) - x\n",
        "r = optimize.fsolve(f, 4)\n",
        "print(\"r =\", r)\n",
        "\n",
        "# Verify the solution is a root\n",
        "result = f(r)\n",
        "print(\"result=\", result)"
      ],
      "metadata": {
        "colab": {
          "base_uri": "https://localhost:8080/"
        },
        "id": "SPqh0r95yANj",
        "outputId": "c064bf12-aa75-4210-8ed4-d6f06d199f1a"
      },
      "execution_count": null,
      "outputs": [
        {
          "output_type": "stream",
          "name": "stdout",
          "text": [
            "r = [0.73908513]\n",
            "result= [6.66133815e-16]\n"
          ]
        }
      ]
    },
    {
      "cell_type": "markdown",
      "source": [
        "# Section 3.3: Unconstrained Optimization"
      ],
      "metadata": {
        "id": "2hF9Ph-xYbVr"
      }
    },
    {
      "cell_type": "markdown",
      "source": [
        "Let tol be the accepted level of error. Even equations that have no real root (ie y = 1/x) can have an acceptable solution so long as the result is less than or equal to the tolerance."
      ],
      "metadata": {
        "id": "tfa5Hvd-y20S"
      }
    }
  ]
}